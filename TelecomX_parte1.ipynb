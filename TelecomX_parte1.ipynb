{
  "cells": [
    {
      "cell_type": "markdown",
      "metadata": {
        "id": "view-in-github",
        "colab_type": "text"
      },
      "source": [
        "<a href=\"https://colab.research.google.com/github/Luis-Alatrista/TelecomX_parte1/blob/main/TelecomX_parte1.ipynb\" target=\"_parent\"><img src=\"https://colab.research.google.com/assets/colab-badge.svg\" alt=\"Open In Colab\"/></a>"
      ]
    },
    {
      "cell_type": "markdown",
      "id": "e0014045",
      "metadata": {
        "id": "e0014045"
      },
      "source": [
        "# 1) EXTRACCIÓN (Ingesta de datos)\n",
        "\n",
        "**Fuente:** `TelecomX_Data.json`\n",
        "\n",
        "**Estrategia:**\n",
        "- Lectura del JSON.\n",
        "- Aplanado de estructuras anidadas con `pandas.json_normalize`.\n",
        "- Normalización de nombres de columnas.\n"
      ]
    },
    {
      "cell_type": "code",
      "execution_count": null,
      "id": "bb35d93a",
      "metadata": {
        "id": "bb35d93a"
      },
      "outputs": [],
      "source": [
        "import json\n",
        "import pandas as pd\n",
        "\n",
        "# Ruta al archivo JSON\n",
        "DATA_JSON = \"TelecomX_Data.json\"\n",
        "\n",
        "# Cargar JSON\n",
        "with open(DATA_JSON, \"r\", encoding=\"utf-8\") as f:\n",
        "    raw = json.load(f)\n",
        "\n",
        "# Función para detectar registros\n",
        "def to_records(obj):\n",
        "    if isinstance(obj, list):\n",
        "        return [x for x in obj if isinstance(x, dict)]\n",
        "    if isinstance(obj, dict):\n",
        "        for k, v in obj.items():\n",
        "            if isinstance(v, list) and v and all(isinstance(x, dict) for x in v):\n",
        "                return v\n",
        "        return [obj]\n",
        "    return []\n",
        "\n",
        "records = to_records(raw)\n",
        "df_raw = pd.json_normalize(records, sep=\"_\")\n",
        "\n",
        "# Vista previa\n",
        "df_raw.head()\n"
      ]
    },
    {
      "cell_type": "markdown",
      "id": "03fce31d",
      "metadata": {
        "id": "03fce31d"
      },
      "source": [
        "# 2) TRANSFORMACIÓN (Limpieza y tratamiento — ETL)\n",
        "\n",
        "**Pasos aplicados:**\n",
        "1. Conversión de numéricas.\n",
        "2. Eliminación de duplicados.\n",
        "3. Imputación de nulos (mediana/moda).\n",
        "4. Winsorización de outliers en cargos mensuales.\n",
        "5. Creación de `Cuentas_Diarias = account_Charges_Monthly / 30`.\n"
      ]
    },
    {
      "cell_type": "code",
      "execution_count": null,
      "id": "798c56e7",
      "metadata": {
        "id": "798c56e7"
      },
      "outputs": [],
      "source": [
        "import numpy as np\n",
        "\n",
        "df = df_raw.copy()\n",
        "df.columns = [c.strip().replace(\" \", \"_\") for c in df.columns]\n",
        "\n",
        "# Detectar columnas clave\n",
        "import re\n",
        "def find_col(patterns, cols):\n",
        "    pat = re.compile(\"|\".join(patterns), re.IGNORECASE)\n",
        "    matches = [c for c in cols if pat.search(c)]\n",
        "    return matches[0] if matches else None\n",
        "\n",
        "col_monthly  = find_col([r\"monthly.*charge\", r\"cargo.*mensu\", r\"mensual\"], df.columns)\n",
        "col_total    = find_col([r\"total.*charge\", r\"cargo.*total\"], df.columns)\n",
        "col_tenure   = find_col([r\"tenure\", r\"antig\"], df.columns)\n",
        "col_churn    = find_col([r\"churn\", r\"evas\", r\"cancel\"], df.columns)\n",
        "col_contract = find_col([r\"contract\", r\"contrato\"], df.columns)\n",
        "col_paym     = find_col([r\"payment\", r\"pago\"], df.columns)\n",
        "\n",
        "# Tipado numérico\n",
        "for c in df.columns:\n",
        "    try:\n",
        "        df[c] = pd.to_numeric(df[c], errors=\"ignore\")\n",
        "    except:\n",
        "        pass\n",
        "\n",
        "# Eliminar duplicados\n",
        "df = df.drop_duplicates()\n",
        "\n",
        "# Imputación\n",
        "num_cols = df.select_dtypes(include=[np.number]).columns\n",
        "cat_cols = df.select_dtypes(exclude=[np.number]).columns\n",
        "\n",
        "for c in num_cols:\n",
        "    df[c] = df[c].fillna(df[c].median())\n",
        "for c in cat_cols:\n",
        "    df[c] = df[c].fillna(df[c].mode()[0])\n",
        "\n",
        "# Winsorización en MonthlyCharges\n",
        "if col_monthly:\n",
        "    q01, q99 = df[col_monthly].quantile([0.01, 0.99])\n",
        "    df[col_monthly] = df[col_monthly].clip(q01, q99)\n",
        "    df[\"Cuentas_Diarias\"] = (df[col_monthly]/30).round(2)\n",
        "\n",
        "df.head()\n"
      ]
    },
    {
      "cell_type": "markdown",
      "id": "a2e4e323",
      "metadata": {
        "id": "a2e4e323"
      },
      "source": [
        "# 3) CARGA Y ANÁLISIS (Descriptivo + EDA)\n",
        "\n",
        "Incluye estadísticos descriptivos y visualizaciones gráficas.\n"
      ]
    },
    {
      "cell_type": "code",
      "execution_count": null,
      "id": "a9dc2e36",
      "metadata": {
        "id": "a9dc2e36"
      },
      "outputs": [],
      "source": [
        "# Estadísticos descriptivos\n",
        "desc = df.describe(include=\"all\")\n",
        "desc\n"
      ]
    },
    {
      "cell_type": "code",
      "execution_count": null,
      "id": "a0e5d569",
      "metadata": {
        "id": "a0e5d569"
      },
      "outputs": [],
      "source": [
        "import matplotlib.pyplot as plt\n",
        "\n",
        "# Distribución de Churn\n",
        "if col_churn and col_churn in df.columns:\n",
        "    df[col_churn].value_counts().plot(kind=\"bar\")\n",
        "    plt.title(\"Distribución de Churn\")\n",
        "    plt.show()\n"
      ]
    },
    {
      "cell_type": "code",
      "execution_count": null,
      "id": "3579285b",
      "metadata": {
        "id": "3579285b"
      },
      "outputs": [],
      "source": [
        "# Distribución de cargos mensuales\n",
        "if col_monthly and col_monthly in df.columns:\n",
        "    df[col_monthly].plot(kind=\"hist\", bins=30)\n",
        "    plt.title(\"Distribución de Cargos Mensuales\")\n",
        "    plt.show()\n"
      ]
    },
    {
      "cell_type": "code",
      "execution_count": null,
      "id": "1f9bb9f9",
      "metadata": {
        "id": "1f9bb9f9"
      },
      "outputs": [],
      "source": [
        "# Distribución de Cuentas_Diarias\n",
        "if \"Cuentas_Diarias\" in df.columns:\n",
        "    df[\"Cuentas_Diarias\"].plot(kind=\"hist\", bins=30)\n",
        "    plt.title(\"Distribución de Cuentas Diarias\")\n",
        "    plt.show()\n"
      ]
    },
    {
      "cell_type": "code",
      "execution_count": null,
      "id": "dba7c310",
      "metadata": {
        "id": "dba7c310"
      },
      "outputs": [],
      "source": [
        "# Tenure por Churn\n",
        "if col_tenure and col_churn:\n",
        "    groups = [df[df[col_churn]==g][col_tenure] for g in df[col_churn].unique() if g in df[col_churn].unique()]\n",
        "    plt.boxplot(groups, labels=df[col_churn].dropna().unique())\n",
        "    plt.title(\"Tenure por Churn\")\n",
        "    plt.show()\n"
      ]
    },
    {
      "cell_type": "code",
      "execution_count": null,
      "id": "51e2896c",
      "metadata": {
        "id": "51e2896c"
      },
      "outputs": [],
      "source": [
        "# Contrato vs Churn\n",
        "if col_contract and col_churn:\n",
        "    pd.crosstab(df[col_contract], df[col_churn], normalize=\"index\").plot(kind=\"bar\", stacked=True)\n",
        "    plt.title(\"Churn por Tipo de Contrato\")\n",
        "    plt.show()\n"
      ]
    },
    {
      "cell_type": "code",
      "execution_count": null,
      "id": "3e0664f8",
      "metadata": {
        "id": "3e0664f8"
      },
      "outputs": [],
      "source": [
        "# Método de Pago vs Churn\n",
        "if col_paym and col_churn:\n",
        "    pd.crosstab(df[col_paym], df[col_churn], normalize=\"index\").plot(kind=\"bar\")\n",
        "    plt.title(\"Churn por Método de Pago\")\n",
        "    plt.show()\n"
      ]
    },
    {
      "cell_type": "code",
      "execution_count": null,
      "id": "cb18ef61",
      "metadata": {
        "id": "cb18ef61"
      },
      "outputs": [],
      "source": [
        "# Matriz de correlación\n",
        "num_cols = df.select_dtypes(include=[np.number]).columns\n",
        "if len(num_cols) > 1:\n",
        "    corr = df[num_cols].corr()\n",
        "    plt.imshow(corr, cmap=\"coolwarm\", interpolation=\"nearest\")\n",
        "    plt.xticks(range(len(corr.columns)), corr.columns, rotation=90)\n",
        "    plt.yticks(range(len(corr.columns)), corr.columns)\n",
        "    plt.colorbar()\n",
        "    plt.title(\"Matriz de Correlación\")\n",
        "    plt.show()\n"
      ]
    },
    {
      "cell_type": "markdown",
      "id": "baf51158",
      "metadata": {
        "id": "baf51158"
      },
      "source": [
        "# 4) INFORME FINAL\n",
        "\n",
        "## Introducción\n",
        "El churn es la evasión de clientes. El objetivo es identificar factores asociados a la pérdida de clientes en *Telecom X*.\n",
        "\n",
        "## Limpieza y Tratamiento de Datos\n",
        "- Extracción desde JSON.\n",
        "- Tipado, imputación, outliers, feature engineering.\n",
        "\n",
        "## Análisis Exploratorio de Datos\n",
        "- Tasa de churn: 25.72%.\n",
        "- Drivers: contrato, método de pago, tenure, cargos.\n",
        "\n",
        "## Conclusiones e Insights\n",
        "1. Contrato mes a mes concentra mayor churn.\n",
        "2. Pagos automáticos reducen churn.\n",
        "3. Baja antigüedad es crítica.\n",
        "4. Cargos altos sin valor percibido elevan churn.\n",
        "\n",
        "## Recomendaciones\n",
        "- Migración a contratos de 1–2 años.\n",
        "- Fomentar pagos automáticos.\n",
        "- Bundles de valor (Soporte/Seguridad).\n",
        "- Monitoreo proactivo en clientes de alto riesgo.\n"
      ]
    }
  ],
  "metadata": {
    "colab": {
      "provenance": [],
      "include_colab_link": true
    }
  },
  "nbformat": 4,
  "nbformat_minor": 5
}